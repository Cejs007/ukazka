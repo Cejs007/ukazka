{
  "cells": [
    {
      "cell_type": "markdown",
      "metadata": {
        "id": "q_ys1wGpKmV1"
      },
      "source": [
        "Odkaz kaggle:\n",
        "https://www.kaggle.com/datasets/harishkumardatalab/food-image-classification-dataset/data"
      ]
    },
    {
      "cell_type": "code",
      "source": [
        "import pandas as pd"
      ],
      "metadata": {
        "id": "UmOtWLABKrBM"
      },
      "execution_count": 2,
      "outputs": []
    },
    {
      "cell_type": "code",
      "execution_count": 1,
      "metadata": {
        "colab": {
          "base_uri": "https://localhost:8080/"
        },
        "id": "B1-kSOVoKmV4",
        "outputId": "897f13ff-50c7-4fcf-afe4-cb3fba804251"
      },
      "outputs": [
        {
          "output_type": "stream",
          "name": "stdout",
          "text": [
            "Ahoj\n"
          ]
        }
      ],
      "source": [
        "print(\"Ahoj\")"
      ]
    },
    {
      "cell_type": "code",
      "execution_count": null,
      "metadata": {
        "id": "_1cQUiZQKmV7"
      },
      "outputs": [],
      "source": [
        "# načtu data"
      ]
    },
    {
      "cell_type": "code",
      "execution_count": null,
      "metadata": {
        "id": "gA4BK32jKmV7"
      },
      "outputs": [],
      "source": [
        "# preprocessing"
      ]
    },
    {
      "cell_type": "code",
      "execution_count": null,
      "metadata": {
        "id": "DBWdwAOJKmV8"
      },
      "outputs": [],
      "source": [
        "# vytvoření modelu\n",
        "# keras neuronka"
      ]
    },
    {
      "cell_type": "code",
      "source": [
        "#transfer_learning"
      ],
      "metadata": {
        "id": "1eGmCyCSLPKh"
      },
      "execution_count": null,
      "outputs": []
    },
    {
      "cell_type": "code",
      "execution_count": null,
      "metadata": {
        "id": "G8pvlqYQKmV8"
      },
      "outputs": [],
      "source": [
        "# trénink"
      ]
    }
  ],
  "metadata": {
    "kernelspec": {
      "display_name": "Python 3",
      "language": "python",
      "name": "python3"
    },
    "language_info": {
      "codemirror_mode": {
        "name": "ipython",
        "version": 3
      },
      "file_extension": ".py",
      "mimetype": "text/x-python",
      "name": "python",
      "nbconvert_exporter": "python",
      "pygments_lexer": "ipython3",
      "version": "3.13.2"
    },
    "colab": {
      "provenance": [],
      "toc_visible": true
    }
  },
  "nbformat": 4,
  "nbformat_minor": 0
}